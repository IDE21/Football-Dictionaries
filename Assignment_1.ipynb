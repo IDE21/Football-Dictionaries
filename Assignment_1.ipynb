{
  "cells": [
    {
      "cell_type": "markdown",
      "metadata": {
        "id": "view-in-github",
        "colab_type": "text"
      },
      "source": [
        "<a href=\"https://colab.research.google.com/github/IDE21/Football-Dictionaries/blob/main/Assignment_1.ipynb\" target=\"_parent\"><img src=\"https://colab.research.google.com/assets/colab-badge.svg\" alt=\"Open In Colab\"/></a>"
      ]
    },
    {
      "cell_type": "code",
      "execution_count": null,
      "id": "2d66392e-c8e8-4838-a69f-8eb24bc4f702",
      "metadata": {
        "id": "2d66392e-c8e8-4838-a69f-8eb24bc4f702"
      },
      "outputs": [],
      "source": [
        "def convert_players_to_dicts(players_list):\n",
        "    # Define the keys corresponding to the player's information\n",
        "    keys = ['number', 'position', 'name', 'date_of_birth', 'caps', 'club', 'country', 'club_country', 'year']\n",
        "\n",
        "    # Initialize an empty list to hold the player dictionaries\n",
        "    players_dict_list = []\n",
        "        # Iterate over each player in the list\n",
        "    for player in players_list:\n",
        "        # Create a dictionary by zipping the keys with the player's data\n",
        "        player_dict = dict(zip(keys, player))\n",
        "        # Add the dictionary to the list of players\n",
        "        players_dict_list.append(player_dict)\n",
        "\n",
        "    return players_dict_list"
      ]
    },
    {
      "cell_type": "code",
      "execution_count": null,
      "id": "1225619a-d00e-4ca7-bcda-58a2d7581129",
      "metadata": {
        "id": "1225619a-d00e-4ca7-bcda-58a2d7581129",
        "outputId": "82ee39c0-58d4-434f-8314-877e056f401f"
      },
      "outputs": [
        {
          "name": "stdout",
          "output_type": "stream",
          "text": [
            "{'number': '1', 'position': 'GK', 'name': 'Juan Botasso', 'date_of_birth': '(1908-10-23)23 October 1908 (aged 21)', 'caps': '', 'club': 'Quilmes', 'country': 'Argentina', 'club_country': 'Argentina', 'year': '1930'}\n",
            "{'number': '9', 'position': 'FW', 'name': 'Roberto Cherro', 'date_of_birth': '(1907-02-23)23 February 1907 (aged 23)', 'caps': '', 'club': 'Boca Juniors', 'country': 'Argentina', 'club_country': 'Argentina', 'year': '1930'}\n"
          ]
        }
      ],
      "source": [
        "# Example usage with the given data\n",
        "SQUADS_DATA = [\n",
        "    [\n",
        "        \"1\",\n",
        "        \"GK\",\n",
        "        \"Juan Botasso\",\n",
        "        \"(1908-10-23)23 October 1908 (aged 21)\",\n",
        "        \"\",\n",
        "        \"Quilmes\",\n",
        "        \"Argentina\",\n",
        "        \"Argentina\",\n",
        "        \"1930\"\n",
        "    ],\n",
        "    [\n",
        "        \"9\",\n",
        "        \"FW\",\n",
        "        \"Roberto Cherro\",\n",
        "        \"(1907-02-23)23 February 1907 (aged 23)\",\n",
        "        \"\",\n",
        "        \"Boca Juniors\",\n",
        "        \"Argentina\",\n",
        "        \"Argentina\",\n",
        "        \"1930\"\n",
        "    ]\n",
        "]\n",
        "\n",
        "# Convert the list of players to a list of dictionaries\n",
        "players_as_dicts = convert_players_to_dicts(SQUADS_DATA)\n",
        "\n",
        "# Print the result\n",
        "for player in players_as_dicts:\n",
        "    print(player)"
      ]
    }
  ],
  "metadata": {
    "kernelspec": {
      "display_name": "Python 3 (ipykernel)",
      "language": "python",
      "name": "python3"
    },
    "language_info": {
      "codemirror_mode": {
        "name": "ipython",
        "version": 3
      },
      "file_extension": ".py",
      "mimetype": "text/x-python",
      "name": "python",
      "nbconvert_exporter": "python",
      "pygments_lexer": "ipython3",
      "version": "3.11.7"
    },
    "colab": {
      "provenance": [],
      "include_colab_link": true
    }
  },
  "nbformat": 4,
  "nbformat_minor": 5
}