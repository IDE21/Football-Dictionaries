{
  "cells": [
    {
      "cell_type": "markdown",
      "metadata": {
        "id": "view-in-github",
        "colab_type": "text"
      },
      "source": [
        "<a href=\"https://colab.research.google.com/github/IDE21/Football-Dictionaries/blob/main/Assignment_2.ipynb\" target=\"_parent\"><img src=\"https://colab.research.google.com/assets/colab-badge.svg\" alt=\"Open In Colab\"/></a>"
      ]
    },
    {
      "cell_type": "code",
      "execution_count": null,
      "id": "f8c999d8-7c2f-424c-b503-771687676e59",
      "metadata": {
        "id": "f8c999d8-7c2f-424c-b503-771687676e59"
      },
      "outputs": [],
      "source": [
        "def group_players_by_position(players_list):\n",
        "    # Define the keys for player dictionary\n",
        "    keys = ['number', 'position', 'name', 'date_of_birth', 'caps', 'club', 'country', 'club_country', 'year']\n",
        "\n",
        "    # Initialize an empty dictionary to hold players grouped by position\n",
        "    grouped_players = {}\n",
        "\n",
        "    # Iterate over each player in the list\n",
        "    for player in players_list:\n",
        "        # Convert the player list to a dictionary\n",
        "        player_dict = dict(zip(keys, player))\n",
        "\n",
        "        # Get the player's position\n",
        "        position = player_dict['position']\n",
        "\n",
        "        # Add the player to the appropriate list in the grouped_players dictionary\n",
        "        if position not in grouped_players:\n",
        "            grouped_players[position] = []\n",
        "        grouped_players[position].append(player_dict)\n",
        "\n",
        "    return grouped_players"
      ]
    },
    {
      "cell_type": "code",
      "execution_count": null,
      "id": "b72d11ae-589a-4eba-b806-fd3a750d4ff9",
      "metadata": {
        "id": "b72d11ae-589a-4eba-b806-fd3a750d4ff9",
        "outputId": "11a7f3d8-2949-41e2-c977-ff6c235f6609"
      },
      "outputs": [
        {
          "name": "stdout",
          "output_type": "stream",
          "text": [
            "GK: [{'number': '1', 'position': 'GK', 'name': 'Juan Botasso', 'date_of_birth': '(1908-10-23)23 October 1908 (aged 21)', 'caps': '', 'club': 'Quilmes', 'country': 'Argentina', 'club_country': 'Argentina', 'year': '1930'}]\n",
            "FW: [{'number': '9', 'position': 'FW', 'name': 'Roberto Cherro', 'date_of_birth': '(1907-02-23)23 February 1907 (aged 23)', 'caps': '', 'club': 'Boca Juniors', 'country': 'Argentina', 'club_country': 'Argentina', 'year': '1930'}]\n",
            "DF: [{'number': '2', 'position': 'DF', 'name': 'Pedro Arico Suárez', 'date_of_birth': '(1908-06-05)5 June 1908 (aged 22)', 'caps': '', 'club': 'Boca Juniors', 'country': 'Argentina', 'club_country': 'Argentina', 'year': '1930'}]\n",
            "MF: [{'number': '7', 'position': 'MF', 'name': 'José Ramos', 'date_of_birth': '(1910-04-19)19 April 1910 (aged 20)', 'caps': '', 'club': 'Huracán', 'country': 'Argentina', 'club_country': 'Argentina', 'year': '1930'}]\n"
          ]
        }
      ],
      "source": [
        "# Example usage with the given data\n",
        "SQUADS_DATA = [\n",
        "    [\"1\", \"GK\", \"Juan Botasso\", \"(1908-10-23)23 October 1908 (aged 21)\", \"\", \"Quilmes\", \"Argentina\", \"Argentina\", \"1930\"],\n",
        "    [\"9\", \"FW\", \"Roberto Cherro\", \"(1907-02-23)23 February 1907 (aged 23)\", \"\", \"Boca Juniors\", \"Argentina\", \"Argentina\", \"1930\"],\n",
        "    [\"2\", \"DF\", \"Pedro Arico Suárez\", \"(1908-06-05)5 June 1908 (aged 22)\", \"\", \"Boca Juniors\", \"Argentina\", \"Argentina\", \"1930\"],\n",
        "    [\"7\", \"MF\", \"José Ramos\", \"(1910-04-19)19 April 1910 (aged 20)\", \"\", \"Huracán\", \"Argentina\", \"Argentina\", \"1930\"]\n",
        "    # More players...\n",
        "]\n",
        "\n",
        "# Group players by their positions\n",
        "grouped_players = group_players_by_position(SQUADS_DATA)\n",
        "\n",
        "# Print the grouped players\n",
        "for position, players in grouped_players.items():\n",
        "    print(f\"{position}: {players}\")"
      ]
    },
    {
      "cell_type": "code",
      "execution_count": null,
      "id": "109d5744-7958-4de2-b927-f42d1bbb6fe0",
      "metadata": {
        "id": "109d5744-7958-4de2-b927-f42d1bbb6fe0"
      },
      "outputs": [],
      "source": []
    }
  ],
  "metadata": {
    "kernelspec": {
      "display_name": "Python 3 (ipykernel)",
      "language": "python",
      "name": "python3"
    },
    "language_info": {
      "codemirror_mode": {
        "name": "ipython",
        "version": 3
      },
      "file_extension": ".py",
      "mimetype": "text/x-python",
      "name": "python",
      "nbconvert_exporter": "python",
      "pygments_lexer": "ipython3",
      "version": "3.11.7"
    },
    "colab": {
      "provenance": [],
      "include_colab_link": true
    }
  },
  "nbformat": 4,
  "nbformat_minor": 5
}